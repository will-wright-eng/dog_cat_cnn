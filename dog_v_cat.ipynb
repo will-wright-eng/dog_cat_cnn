{
 "cells": [
  {
   "cell_type": "code",
   "execution_count": null,
   "metadata": {
    "colab": {},
    "colab_type": "code",
    "id": "9sp06G2u7-0t"
   },
   "outputs": [],
   "source": [
    "import matplotlib.pyplot as plt\n",
    "import pandas as pd\n",
    "import numpy as np\n",
    "import PIL\n",
    "import os\n",
    "import math\n",
    "os.environ['KMP_DUPLICATE_LIB_OK']='True'\n",
    "%matplotlib inline"
   ]
  },
  {
   "cell_type": "code",
   "execution_count": null,
   "metadata": {
    "colab": {
     "base_uri": "https://localhost:8080/",
     "height": 204
    },
    "colab_type": "code",
    "executionInfo": {
     "elapsed": 4763,
     "status": "ok",
     "timestamp": 1581375301370,
     "user": {
      "displayName": "Joseph Filla",
      "photoUrl": "https://lh3.googleusercontent.com/a-/AAuE7mAVyZW6MPuAmKCGzqwbmFTEcxLTS0JCXMgJBan7hg=s64",
      "userId": "03566182534553527245"
     },
     "user_tz": 480
    },
    "id": "0crseNfyv1nx",
    "outputId": "d75a51ac-3f90-482c-92b6-943cc6f3a6d3"
   },
   "outputs": [],
   "source": [
    "#!wget --no-check-certificate \\\n",
    "#    https://storage.googleapis.com/mledu-datasets/cats_and_dogs_filtered.zip -O /home/final_home/cats_and_dogs_filtered.zip"
   ]
  },
  {
   "cell_type": "code",
   "execution_count": null,
   "metadata": {
    "colab": {},
    "colab_type": "code",
    "id": "EX9eoq8QGQ5h"
   },
   "outputs": [],
   "source": [
    "#extract.zip file contains train and validation data\n",
    "\n",
    "import os\n",
    "import zipfile\n",
    "\n",
    "local_zip = 'cats_and_dogs_filtered.zip'\n",
    "zip_ref = zipfile.ZipFile(local_zip, 'r')\n",
    "zip_ref.extractall('data')\n",
    "zip_ref.close()"
   ]
  },
  {
   "cell_type": "code",
   "execution_count": null,
   "metadata": {},
   "outputs": [],
   "source": [
    "# create directory for stored models\n",
    "model_dir = 'flask/models'\n",
    "os.mkdir(model_dir)"
   ]
  },
  {
   "cell_type": "code",
   "execution_count": null,
   "metadata": {
    "colab": {
     "base_uri": "https://localhost:8080/",
     "height": 269
    },
    "colab_type": "code",
    "executionInfo": {
     "elapsed": 2492,
     "status": "ok",
     "timestamp": 1581375307697,
     "user": {
      "displayName": "Joseph Filla",
      "photoUrl": "https://lh3.googleusercontent.com/a-/AAuE7mAVyZW6MPuAmKCGzqwbmFTEcxLTS0JCXMgJBan7hg=s64",
      "userId": "03566182534553527245"
     },
     "user_tz": 480
    },
    "id": "oNhQGmfWAzzT",
    "outputId": "6c40373b-cf6b-4927-d09f-6555422893c3"
   },
   "outputs": [],
   "source": [
    "# plot dog photos from the dogs vs cats dataset\n",
    "from matplotlib import pyplot\n",
    "from matplotlib.image import imread\n",
    "# define location of dataset\n",
    "folder = 'data/cats_and_dogs_filtered/train/dogs/'\n",
    "# plot first few images\n",
    "for i in range(9):\n",
    "\t# define subplot\n",
    "\tpyplot.subplot(330 + 1 + i)\n",
    "\t# define filename\n",
    "\tfilename = folder + 'dog.' + str(i) + '.jpg'\n",
    "\t# load image pixels\n",
    "\timage = imread(filename)\n",
    "\t# plot raw pixel data\n",
    "\tpyplot.imshow(image)\n",
    "# show the figure\n",
    "pyplot.show()"
   ]
  },
  {
   "cell_type": "code",
   "execution_count": null,
   "metadata": {
    "colab": {
     "base_uri": "https://localhost:8080/",
     "height": 269
    },
    "colab_type": "code",
    "executionInfo": {
     "elapsed": 1782,
     "status": "ok",
     "timestamp": 1581375311141,
     "user": {
      "displayName": "Joseph Filla",
      "photoUrl": "https://lh3.googleusercontent.com/a-/AAuE7mAVyZW6MPuAmKCGzqwbmFTEcxLTS0JCXMgJBan7hg=s64",
      "userId": "03566182534553527245"
     },
     "user_tz": 480
    },
    "id": "oLHpKsqIGjpY",
    "outputId": "6a7f2faa-0f08-4b37-bd33-0850163e868b"
   },
   "outputs": [],
   "source": [
    "# plot dog photos from the dogs vs cats dataset\n",
    "from matplotlib import pyplot\n",
    "from matplotlib.image import imread\n",
    "# define location of dataset\n",
    "folder = 'data/cats_and_dogs_filtered/train/cats/'\n",
    "# plot first few images\n",
    "for i in range(9):\n",
    "\t# define subplot\n",
    "\tpyplot.subplot(330 + 1 + i)\n",
    "\t# define filename\n",
    "\tfilename = folder + 'cat.' + str(i) + '.jpg'\n",
    "\t# load image pixels\n",
    "\timage = imread(filename)\n",
    "\t# plot raw pixel data\n",
    "\tpyplot.imshow(image)\n",
    "# show the figure\n",
    "pyplot.show()"
   ]
  },
  {
   "cell_type": "code",
   "execution_count": null,
   "metadata": {},
   "outputs": [],
   "source": [
    "# Install the plaidml backend\n",
    "#import plaidml.keras\n",
    "#plaidml.keras.install_backend()"
   ]
  },
  {
   "cell_type": "code",
   "execution_count": null,
   "metadata": {
    "colab": {
     "base_uri": "https://localhost:8080/",
     "height": 80
    },
    "colab_type": "code",
    "executionInfo": {
     "elapsed": 2009,
     "status": "ok",
     "timestamp": 1581375319595,
     "user": {
      "displayName": "Joseph Filla",
      "photoUrl": "https://lh3.googleusercontent.com/a-/AAuE7mAVyZW6MPuAmKCGzqwbmFTEcxLTS0JCXMgJBan7hg=s64",
      "userId": "03566182534553527245"
     },
     "user_tz": 480
    },
    "id": "kWHIhj45mjRZ",
    "outputId": "76a3aeeb-8b97-4382-eb57-0020547d5dfc"
   },
   "outputs": [],
   "source": [
    "#Keras is an Open Source Neural Network library \n",
    "#written in Python that runs on top of Theano or Tensorflow\n",
    "import keras\n",
    "#image augmentation artifically expand the size of training dataset by creating\n",
    "#motivate version of images\n",
    "from keras.preprocessing.image import ImageDataGenerator\n",
    "from keras.models import Model\n",
    "from keras.layers import Input, Flatten, Dense, Dropout, GlobalAveragePooling2D\n",
    "from keras.applications.mobilenet import MobileNet\n",
    "import math"
   ]
  },
  {
   "cell_type": "code",
   "execution_count": null,
   "metadata": {
    "colab": {},
    "colab_type": "code",
    "id": "rHlZOtpdnD_I"
   },
   "outputs": [],
   "source": [
    "TRAIN_DATA_DIR = 'data/cats_and_dogs_filtered/train/'\n",
    "VALIDATION_DATA_DIR = 'data/cats_and_dogs_filtered/validation/'\n",
    "TRAIN_SAMPLES = 2000\n",
    "VALIDATION_SAMPLES = 100\n",
    "NUM_CLASSES=2\n",
    "IMG_WIDTH, IMG_HEIGHT = 224, 224\n",
    "BATCH_SIZE=64"
   ]
  },
  {
   "cell_type": "code",
   "execution_count": null,
   "metadata": {
    "colab": {},
    "colab_type": "code",
    "id": "cuncspBqnNyx"
   },
   "outputs": [],
   "source": []
  },
  {
   "cell_type": "code",
   "execution_count": null,
   "metadata": {
    "colab": {},
    "colab_type": "code",
    "id": "dVq6tg8vnOEI"
   },
   "outputs": [],
   "source": [
    "train_datagen = ImageDataGenerator(rescale=1./255,\n",
    "                                   rotation_range=20,\n",
    "                                   width_shift_range=0.2,\n",
    "                                   height_shift_range=0.2,\n",
    "                                   zoom_range=0.2)\n",
    "val_datagen = ImageDataGenerator(rescale=1./255)"
   ]
  },
  {
   "cell_type": "code",
   "execution_count": null,
   "metadata": {
    "colab": {
     "base_uri": "https://localhost:8080/",
     "height": 51
    },
    "colab_type": "code",
    "executionInfo": {
     "elapsed": 893,
     "status": "ok",
     "timestamp": 1581375329760,
     "user": {
      "displayName": "Joseph Filla",
      "photoUrl": "https://lh3.googleusercontent.com/a-/AAuE7mAVyZW6MPuAmKCGzqwbmFTEcxLTS0JCXMgJBan7hg=s64",
      "userId": "03566182534553527245"
     },
     "user_tz": 480
    },
    "id": "hNzpARqXnOvE",
    "outputId": "e05b5a44-1c8d-4198-e961-ea0f54e45cd6"
   },
   "outputs": [],
   "source": [
    "train_generator = train_datagen.flow_from_directory(\n",
    "                        TRAIN_DATA_DIR,\n",
    "                        target_size=(IMG_WIDTH, IMG_HEIGHT),\n",
    "                        batch_size=BATCH_SIZE,\n",
    "                        shuffle=True,\n",
    "                        seed=12345,\n",
    "                        class_mode='categorical')\n",
    "validation_generator = val_datagen.flow_from_directory(\n",
    "                        VALIDATION_DATA_DIR,\n",
    "                        target_size=(IMG_WIDTH, IMG_HEIGHT),\n",
    "                        batch_size=BATCH_SIZE,\n",
    "                        shuffle=False,\n",
    "                        class_mode='categorical')"
   ]
  },
  {
   "cell_type": "code",
   "execution_count": null,
   "metadata": {
    "colab": {},
    "colab_type": "code",
    "id": "0JnjsokdnPAr"
   },
   "outputs": [],
   "source": [
    "def model_maker():\n",
    "    base_model = MobileNet(include_top=False, input_shape = (IMG_WIDTH,IMG_HEIGHT,3))\n",
    "    for layer in base_model.layers[:]:\n",
    "        layer.trainable = False # Freeze the layers\n",
    "    input = Input(shape=(IMG_WIDTH, IMG_HEIGHT, 3))\n",
    "    custom_model = base_model(input)\n",
    "    custom_model = GlobalAveragePooling2D()(custom_model)\n",
    "    custom_model = Dense(64, activation='relu')(custom_model)\n",
    "    custom_model = Dropout(0.5)(custom_model)\n",
    "    predictions = Dense(NUM_CLASSES, activation='softmax')(custom_model)\n",
    "    return Model(inputs=input, outputs=predictions)"
   ]
  },
  {
   "cell_type": "markdown",
   "metadata": {
    "colab_type": "text",
    "id": "SU5ZO1wvnPNi"
   },
   "source": [
    "model = model_maker()"
   ]
  },
  {
   "cell_type": "code",
   "execution_count": null,
   "metadata": {
    "colab": {},
    "colab_type": "code",
    "id": "alsSJHoYZ6iY"
   },
   "outputs": [],
   "source": [
    "model = model_maker() "
   ]
  },
  {
   "cell_type": "code",
   "execution_count": null,
   "metadata": {
    "colab": {},
    "colab_type": "code",
    "id": "eJoEUtBYZ-tZ"
   },
   "outputs": [],
   "source": [
    "model.compile(loss='categorical_crossentropy',\n",
    "              optimizer= keras.optimizers.Adam(lr=0.001),\n",
    "              metrics=['acc'])"
   ]
  },
  {
   "cell_type": "code",
   "execution_count": null,
   "metadata": {
    "colab": {},
    "colab_type": "code",
    "id": "H0YARuhCZ_YI"
   },
   "outputs": [],
   "source": [
    "epochs = 40"
   ]
  },
  {
   "cell_type": "code",
   "execution_count": null,
   "metadata": {
    "colab": {},
    "colab_type": "code",
    "id": "nKZApfnBZ_7O"
   },
   "outputs": [],
   "source": [
    "from keras.callbacks import ModelCheckpoint\n",
    "\n",
    "checkpoint = ModelCheckpoint(\"flask/models/model_weights.h5\", monitor='val_acc', verbose=1, save_best_only=True, mode='max')\n",
    "callbacks_list = [checkpoint]"
   ]
  },
  {
   "cell_type": "code",
   "execution_count": null,
   "metadata": {
    "colab": {
     "base_uri": "https://localhost:8080/",
     "height": 1000
    },
    "colab_type": "code",
    "executionInfo": {
     "elapsed": 485574,
     "status": "ok",
     "timestamp": 1581378044959,
     "user": {
      "displayName": "Joseph Filla",
      "photoUrl": "https://lh3.googleusercontent.com/a-/AAuE7mAVyZW6MPuAmKCGzqwbmFTEcxLTS0JCXMgJBan7hg=s64",
      "userId": "03566182534553527245"
     },
     "user_tz": 480
    },
    "id": "0NRsvwHDnPpa",
    "outputId": "2e89dcbf-0f46-4e52-9850-1641b89e6a49"
   },
   "outputs": [],
   "source": [
    "\n",
    "\n",
    "history = model.fit_generator(train_generator,\n",
    "                    steps_per_epoch = math.ceil(float(TRAIN_SAMPLES) / BATCH_SIZE),\n",
    "                    epochs=epochs,\n",
    "                    validation_data = validation_generator,\n",
    "                    validation_steps = math.ceil(float(VALIDATION_SAMPLES) / BATCH_SIZE),\n",
    "                    callbacks=callbacks_list)"
   ]
  },
  {
   "cell_type": "code",
   "execution_count": null,
   "metadata": {
    "colab": {},
    "colab_type": "code",
    "id": "8NlWZFLGngXT"
   },
   "outputs": [],
   "source": []
  },
  {
   "cell_type": "code",
   "execution_count": null,
   "metadata": {
    "colab": {},
    "colab_type": "code",
    "id": "24XsVZLbngtc"
   },
   "outputs": [],
   "source": []
  },
  {
   "cell_type": "code",
   "execution_count": null,
   "metadata": {
    "colab": {},
    "colab_type": "code",
    "id": "Kgy5tlplnhCB"
   },
   "outputs": [],
   "source": [
    "# serialize model structure to JSON\n",
    "model_json = model.to_json()\n",
    "with open(\"flask/models/model.json\", \"w\") as json_file:\n",
    "    json_file.write(model_json)"
   ]
  },
  {
   "cell_type": "code",
   "execution_count": null,
   "metadata": {
    "colab": {},
    "colab_type": "code",
    "id": "i7CZOPGlYz-6"
   },
   "outputs": [],
   "source": [
    "import numpy \n",
    "img_path = '/Volumes/T5_500G/Capstone/final_home/cats_and_dogs_filtered/new/cats/pummy.jpg'\n",
    "img = keras.preprocessing.image.load_img(img_path, target_size=(224,224))\n",
    "img_array = keras.preprocessing.image.img_to_array(img)\n",
    "expanded_img_array = np.expand_dims(img_array, axis=0)\n",
    "preprocessed_img = expanded_img_array / 255. # Preprocess the image\n",
    "prediction = model.predict(preprocessed_img)\n",
    "print(prediction)\n",
    "print(validation_generator.class_indices)"
   ]
  },
  {
   "cell_type": "code",
   "execution_count": null,
   "metadata": {
    "colab": {
     "base_uri": "https://localhost:8080/",
     "height": 663
    },
    "colab_type": "code",
    "executionInfo": {
     "elapsed": 1427,
     "status": "ok",
     "timestamp": 1581378250631,
     "user": {
      "displayName": "Joseph Filla",
      "photoUrl": "https://lh3.googleusercontent.com/a-/AAuE7mAVyZW6MPuAmKCGzqwbmFTEcxLTS0JCXMgJBan7hg=s64",
      "userId": "03566182534553527245"
     },
     "user_tz": 480
    },
    "id": "ssnCH1JEY2bP",
    "outputId": "ca3cc668-f080-4e48-8e6d-b0b510fdf8e0"
   },
   "outputs": [],
   "source": [
    "import matplotlib.pyplot as plt\n",
    "\n",
    "plt.figure(figsize=(20,10))\n",
    "plt.subplot(1, 2, 1)\n",
    "plt.suptitle('Optimizer : Adam', fontsize=10)\n",
    "plt.ylabel('Loss', fontsize=16)\n",
    "plt.plot(history.history['loss'], label='Training Loss')\n",
    "plt.plot(history.history['val_loss'], label='Validation Loss')\n",
    "plt.legend(loc='upper right')\n",
    "\n",
    "plt.subplot(1, 2, 2)\n",
    "plt.ylabel('Accuracy', fontsize=16)\n",
    "plt.plot(history.history['acc'], label='Training Accuracy')\n",
    "plt.plot(history.history['val_acc'], label='Validation Accuracy')\n",
    "plt.legend(loc='lower right')\n",
    "plt.savefig('flask/static/graphics/optimizer.png')\n",
    "plt.show()\n"
   ]
  },
  {
   "cell_type": "code",
   "execution_count": null,
   "metadata": {},
   "outputs": [],
   "source": [
    "#####################\n",
    "##### VARIABLES #####\n",
    "#####################\n",
    "\n",
    "IMG_WIDTH, IMG_HEIGHT = 224, 224\n",
    "VALIDATION_DATA_DIR = 'data/cats_and_dogs_filtered/validation/'\n",
    "VALIDATION_BATCH_SIZE = 64\n",
    "\n",
    "#####################\n",
    "## DATA GENERATORS ##\n",
    "#####################\n",
    "\n",
    "validation_datagen = ImageDataGenerator(\n",
    "        rescale=1./255)\n",
    "\n",
    "validation_generator = validation_datagen.flow_from_directory(\n",
    "        VALIDATION_DATA_DIR,\n",
    "        target_size=(IMG_WIDTH, IMG_HEIGHT),\n",
    "        batch_size=VALIDATION_BATCH_SIZE,\n",
    "        shuffle=False,\n",
    "        class_mode='categorical')\n",
    "ground_truth = validation_generator.classes\n",
    "print(validation_generator.class_indices)"
   ]
  },
  {
   "cell_type": "code",
   "execution_count": null,
   "metadata": {
    "colab": {
     "base_uri": "https://localhost:8080/",
     "height": 746
    },
    "colab_type": "code",
    "executionInfo": {
     "elapsed": 4607,
     "status": "ok",
     "timestamp": 1581378625373,
     "user": {
      "displayName": "Joseph Filla",
      "photoUrl": "https://lh3.googleusercontent.com/a-/AAuE7mAVyZW6MPuAmKCGzqwbmFTEcxLTS0JCXMgJBan7hg=s64",
      "userId": "03566182534553527245"
     },
     "user_tz": 480
    },
    "id": "PaROQtkzY2xn",
    "outputId": "4b6a1c67-acbd-4448-ba88-863af6e6576f"
   },
   "outputs": [],
   "source": [
    "# I added this\n",
    "# show the confusion matrix of our predictions\n",
    "\n",
    "# compute predictions\n",
    "predictions = model.predict_generator(generator=validation_generator, steps=(1000/VALIDATION_BATCH_SIZE))\n",
    "y_pred = [np.argmax(probas) for probas in predictions]\n",
    "y_test = validation_generator.classes\n",
    "class_names = validation_generator.class_indices.keys()\n",
    "\n",
    "from sklearn.metrics import confusion_matrix\n",
    "import itertools\n",
    "\n",
    "def plot_confusion_matrix(cm, classes, title='Confusion matrix', cmap=plt.cm.Blues):\n",
    "    cm = cm.astype('float') / cm.sum(axis=1)[:, np.newaxis]\n",
    "    plt.figure(figsize=(10,10))\n",
    "    plt.imshow(cm, interpolation='nearest', cmap=cmap)\n",
    "    plt.title(title)\n",
    "    plt.colorbar()\n",
    "    tick_marks = np.arange(len(classes))\n",
    "    plt.xticks(tick_marks, classes, rotation=45)\n",
    "    plt.yticks(tick_marks, classes)\n",
    "\n",
    "    fmt = '.2f'\n",
    "    thresh = cm.max() / 2.\n",
    "    for i, j in itertools.product(range(cm.shape[0]), range(cm.shape[1])):\n",
    "        plt.text(j, i, format(cm[i, j], fmt),\n",
    "                 horizontalalignment=\"center\",\n",
    "                 color=\"white\" if cm[i, j] > thresh else \"black\")\n",
    "\n",
    "    plt.ylabel('True label')\n",
    "    plt.xlabel('Predicted label')\n",
    "    plt.tight_layout()\n",
    "    \n",
    "# compute confusion matrix\n",
    "cnf_matrix = confusion_matrix(y_test, y_pred)\n",
    "np.set_printoptions(precision=2)\n",
    "\n",
    "# plot normalized confusion matrix\n",
    "plt.figure()\n",
    "plot_confusion_matrix(cnf_matrix, classes=class_names, title='Normalized confusion matrix')\n",
    "plt.savefig('flask/static/graphics/confusion.png')\n",
    "plt.show()\n"
   ]
  },
  {
   "cell_type": "code",
   "execution_count": null,
   "metadata": {
    "colab": {},
    "colab_type": "code",
    "id": "h3KhgDCdY3a9"
   },
   "outputs": [],
   "source": []
  },
  {
   "cell_type": "code",
   "execution_count": null,
   "metadata": {
    "colab": {},
    "colab_type": "code",
    "id": "p95b_t-6Y3uW"
   },
   "outputs": [],
   "source": []
  },
  {
   "cell_type": "code",
   "execution_count": null,
   "metadata": {
    "colab": {},
    "colab_type": "code",
    "id": "iM4uuE8SY3_d"
   },
   "outputs": [],
   "source": []
  },
  {
   "cell_type": "code",
   "execution_count": null,
   "metadata": {
    "colab": {},
    "colab_type": "code",
    "id": "gu1AzN6aY4QN"
   },
   "outputs": [],
   "source": []
  },
  {
   "cell_type": "code",
   "execution_count": null,
   "metadata": {
    "colab": {},
    "colab_type": "code",
    "id": "jODS9kB8Y4fW"
   },
   "outputs": [],
   "source": []
  },
  {
   "cell_type": "code",
   "execution_count": null,
   "metadata": {
    "colab": {
     "base_uri": "https://localhost:8080/",
     "height": 34
    },
    "colab_type": "code",
    "executionInfo": {
     "elapsed": 1088,
     "status": "ok",
     "timestamp": 1581378666804,
     "user": {
      "displayName": "Joseph Filla",
      "photoUrl": "https://lh3.googleusercontent.com/a-/AAuE7mAVyZW6MPuAmKCGzqwbmFTEcxLTS0JCXMgJBan7hg=s64",
      "userId": "03566182534553527245"
     },
     "user_tz": 480
    },
    "id": "3sK6WF-MnhWs",
    "outputId": "4ba56564-2e73-4aeb-a5e2-960b5d12745a"
   },
   "outputs": [],
   "source": [
    "#####################\n",
    "##### VARIABLES #####\n",
    "#####################\n",
    "\n",
    "IMG_WIDTH, IMG_HEIGHT = 224, 224\n",
    "VALIDATION_DATA_DIR = 'data/cats_and_dogs_filtered/validation/'\n",
    "VALIDATION_BATCH_SIZE = 64\n",
    "\n",
    "#####################\n",
    "## DATA GENERATORS ##\n",
    "#####################\n",
    "\n",
    "validation_datagen = ImageDataGenerator(\n",
    "        rescale=1./255)\n",
    "\n",
    "validation_generator = validation_datagen.flow_from_directory(\n",
    "        VALIDATION_DATA_DIR,\n",
    "        target_size=(IMG_WIDTH, IMG_HEIGHT),\n",
    "        batch_size=VALIDATION_BATCH_SIZE,\n",
    "        shuffle=False,\n",
    "        class_mode='categorical')\n",
    "ground_truth = validation_generator.classes\n",
    "print(validation_generator.class_indices)"
   ]
  },
  {
   "cell_type": "code",
   "execution_count": null,
   "metadata": {
    "colab": {},
    "colab_type": "code",
    "id": "2J3eEbxInhqK"
   },
   "outputs": [],
   "source": [
    "print(validation_generator.class_indices)"
   ]
  },
  {
   "cell_type": "code",
   "execution_count": null,
   "metadata": {
    "colab": {},
    "colab_type": "code",
    "id": "i1sph4fFfhjr"
   },
   "outputs": [],
   "source": []
  },
  {
   "cell_type": "code",
   "execution_count": null,
   "metadata": {
    "colab": {},
    "colab_type": "code",
    "id": "VBcjcmfafh8g"
   },
   "outputs": [],
   "source": []
  },
  {
   "cell_type": "code",
   "execution_count": null,
   "metadata": {
    "colab": {},
    "colab_type": "code",
    "id": "8qttCmOPfiPd"
   },
   "outputs": [],
   "source": []
  },
  {
   "cell_type": "code",
   "execution_count": null,
   "metadata": {
    "colab": {},
    "colab_type": "code",
    "id": "42vprAvmfihs"
   },
   "outputs": [],
   "source": []
  },
  {
   "cell_type": "code",
   "execution_count": null,
   "metadata": {
    "colab": {},
    "colab_type": "code",
    "id": "u-IT9PeNfiy9"
   },
   "outputs": [],
   "source": []
  },
  {
   "cell_type": "code",
   "execution_count": null,
   "metadata": {
    "colab": {},
    "colab_type": "code",
    "id": "DBxAhZJ2niBQ"
   },
   "outputs": [],
   "source": [
    "our_predictions = model.predict_generator(validation_generator, steps=(1000/VALIDATION_BATCH_SIZE))"
   ]
  },
  {
   "cell_type": "code",
   "execution_count": null,
   "metadata": {
    "colab": {},
    "colab_type": "code",
    "id": "wKTo44_TniXh"
   },
   "outputs": [],
   "source": [
    "# prediction_table is a dict with index, prediction, ground truth\n",
    "prediction_table = {}\n",
    "for index, val in enumerate(predictions):\n",
    "    #get argmax index\n",
    "    index_of_highest_probability = np.argmax(val)\n",
    "    value_of_highest_probability = val[index_of_highest_probability]\n",
    "    prediction_table[index] = [value_of_highest_probability, index_of_highest_probability,\n",
    "    ground_truth[index]]\n",
    "assert len(our_predictions) == len(ground_truth) == len(prediction_table)"
   ]
  },
  {
   "cell_type": "code",
   "execution_count": null,
   "metadata": {
    "colab": {},
    "colab_type": "code",
    "id": "9P_c3PddnP3c"
   },
   "outputs": [],
   "source": []
  },
  {
   "cell_type": "code",
   "execution_count": null,
   "metadata": {
    "colab": {},
    "colab_type": "code",
    "id": "zVbSYGzvx60a"
   },
   "outputs": [],
   "source": [
    "# Helper function that finds images that are closest\n",
    "# Input parameters:\n",
    "#   prediction_table: dictionary from the image index to the prediction\n",
    "#                      and ground truth for that image\n",
    "#   get_highest_probability: boolean flag to indicate if the results\n",
    "#                            need to be highest (True) or lowest (False) probabilities\n",
    "#   label: id of category\n",
    "#   number_of_items: num of results to return\n",
    "#   only_false_predictions: boolean flag to indicate if results\n",
    "#                           should only contain incorrect predictions\n",
    "def get_images_with_sorted_probabilities(prediction_table, get_highest_probability,\n",
    " label, number_of_items, only_false_predictions=False):\n",
    "    sorted_prediction_table = [ (k, prediction_table[k]) for k in sorted(prediction_table, key=prediction_table.get, reverse= get_highest_probability)]\n",
    "    result = []\n",
    "    for index, key in enumerate(sorted_prediction_table):\n",
    "        image_index, [probability, predicted_index, gt] = key\n",
    "        \n",
    "        if predicted_index == label:\n",
    "            if only_false_predictions == True:\n",
    "                if predicted_index != gt:\n",
    "                    result.append([image_index, [probability, predicted_index, gt] ])\n",
    "            else:\n",
    "                result.append([image_index, [probability, predicted_index, gt] ])\n",
    "        if len(result) >= number_of_items:\n",
    "            return result"
   ]
  },
  {
   "cell_type": "code",
   "execution_count": null,
   "metadata": {
    "colab": {},
    "colab_type": "code",
    "id": "frogs7e6x7MH"
   },
   "outputs": [],
   "source": []
  },
  {
   "cell_type": "code",
   "execution_count": null,
   "metadata": {
    "colab": {},
    "colab_type": "code",
    "id": "gVVmg_5Sx7kh"
   },
   "outputs": [],
   "source": [
    "import matplotlib.image as mpimg\n",
    "import matplotlib.pyplot as plt\n",
    "\n",
    "# Helper functions to plot the nearest images given a query image\n",
    "def plot_images(filenames, distances, message):\n",
    "    images = []\n",
    "    for filename in filenames:\n",
    "        images.append(mpimg.imread(filename))\n",
    "    plt.figure(figsize=(20,15))\n",
    "    columns = 5\n",
    "    for i, image in enumerate(images):\n",
    "        ax = plt.subplot(len(images) / columns + 1, columns, i + 1)\n",
    "        ax.set_title( \"\\n\\n\"+  filenames[i].split(\"/\")[-1]+\"\\n\"+\"\\nProbability: \" +\n",
    "        str(float(\"{0:.2f}\".format(distances[i]))))\n",
    "        plt.suptitle( message, fontsize=20, fontweight='bold')\n",
    "        plt.axis('off')\n",
    "        plt.imshow(image)\n",
    "\n",
    "\n",
    "def display(sorted_indicies, message, fnames):\n",
    "    similar_image_paths = []\n",
    "    distances = []\n",
    "    for name, value in sorted_indicies:\n",
    "        [probability, predicted_index, gt] = value\n",
    "        similar_image_paths.append(VALIDATION_DATA_DIR + fnames[name])\n",
    "        distances.append(probability)\n",
    "    plot_images(similar_image_paths,distances, message)"
   ]
  },
  {
   "cell_type": "code",
   "execution_count": null,
   "metadata": {
    "colab": {},
    "colab_type": "code",
    "id": "H6nVZcq8x789"
   },
   "outputs": [],
   "source": []
  },
  {
   "cell_type": "code",
   "execution_count": null,
   "metadata": {
    "colab": {
     "base_uri": "https://localhost:8080/",
     "height": 667
    },
    "colab_type": "code",
    "executionInfo": {
     "elapsed": 4096,
     "status": "ok",
     "timestamp": 1581378740295,
     "user": {
      "displayName": "Joseph Filla",
      "photoUrl": "https://lh3.googleusercontent.com/a-/AAuE7mAVyZW6MPuAmKCGzqwbmFTEcxLTS0JCXMgJBan7hg=s64",
      "userId": "03566182534553527245"
     },
     "user_tz": 480
    },
    "id": "cqrbDg06x8S5",
    "outputId": "627a4e6c-9205-485d-dff3-db670eb14367"
   },
   "outputs": [],
   "source": [
    "# Most confident predictions of 'dog'\n",
    "indices = get_images_with_sorted_probabilities(prediction_table, True, 1, 10, False)\n",
    "message = 'Images with the highest probability of containing dogs'\n",
    "display(indices[:10], message, validation_generator.filenames)"
   ]
  },
  {
   "cell_type": "code",
   "execution_count": null,
   "metadata": {
    "colab": {},
    "colab_type": "code",
    "id": "XueWjjEIx8pv"
   },
   "outputs": [],
   "source": []
  },
  {
   "cell_type": "code",
   "execution_count": null,
   "metadata": {
    "colab": {
     "base_uri": "https://localhost:8080/",
     "height": 638
    },
    "colab_type": "code",
    "executionInfo": {
     "elapsed": 3747,
     "status": "ok",
     "timestamp": 1581378748869,
     "user": {
      "displayName": "Joseph Filla",
      "photoUrl": "https://lh3.googleusercontent.com/a-/AAuE7mAVyZW6MPuAmKCGzqwbmFTEcxLTS0JCXMgJBan7hg=s64",
      "userId": "03566182534553527245"
     },
     "user_tz": 480
    },
    "id": "vW9anshux9B0",
    "outputId": "33b0480e-f529-4930-d09f-5228bdf666bd"
   },
   "outputs": [],
   "source": [
    "# Least confident predictions of 'dog'\n",
    "indices = get_images_with_sorted_probabilities(prediction_table, False, 1, 10, False)\n",
    "message = 'Images with the lowest probability of containing dogs'\n",
    "display(indices[:10], message, validation_generator.filenames)"
   ]
  },
  {
   "cell_type": "code",
   "execution_count": null,
   "metadata": {
    "colab": {},
    "colab_type": "code",
    "id": "PYR5fODBzZgd"
   },
   "outputs": [],
   "source": []
  },
  {
   "cell_type": "code",
   "execution_count": null,
   "metadata": {
    "colab": {
     "base_uri": "https://localhost:8080/",
     "height": 667
    },
    "colab_type": "code",
    "executionInfo": {
     "elapsed": 3987,
     "status": "ok",
     "timestamp": 1581378758066,
     "user": {
      "displayName": "Joseph Filla",
      "photoUrl": "https://lh3.googleusercontent.com/a-/AAuE7mAVyZW6MPuAmKCGzqwbmFTEcxLTS0JCXMgJBan7hg=s64",
      "userId": "03566182534553527245"
     },
     "user_tz": 480
    },
    "id": "5vVDcOV0zdUy",
    "outputId": "04e3ccb4-82bc-4275-f6a1-3a7d404ce83a"
   },
   "outputs": [],
   "source": [
    "# Most confident predictions of 'cat'\n",
    "indices = get_images_with_sorted_probabilities(prediction_table, True, 0, 10, False)\n",
    "message = 'Images with the highest probability of containing cats'\n",
    "display(indices[:10], message, validation_generator.filenames)"
   ]
  },
  {
   "cell_type": "code",
   "execution_count": null,
   "metadata": {
    "colab": {},
    "colab_type": "code",
    "id": "G2svfuA7zdqi"
   },
   "outputs": [],
   "source": []
  },
  {
   "cell_type": "code",
   "execution_count": null,
   "metadata": {
    "colab": {},
    "colab_type": "code",
    "id": "sRGnwSlSzd-c"
   },
   "outputs": [],
   "source": []
  },
  {
   "cell_type": "code",
   "execution_count": null,
   "metadata": {
    "colab": {
     "base_uri": "https://localhost:8080/",
     "height": 620
    },
    "colab_type": "code",
    "executionInfo": {
     "elapsed": 3312,
     "status": "ok",
     "timestamp": 1581378771688,
     "user": {
      "displayName": "Joseph Filla",
      "photoUrl": "https://lh3.googleusercontent.com/a-/AAuE7mAVyZW6MPuAmKCGzqwbmFTEcxLTS0JCXMgJBan7hg=s64",
      "userId": "03566182534553527245"
     },
     "user_tz": 480
    },
    "id": "ZTGAiDAGzeTT",
    "outputId": "1850e379-60a9-45f4-d2e2-e130e6507679"
   },
   "outputs": [],
   "source": [
    "# Least confident predictions of 'cat'\n",
    "indices = get_images_with_sorted_probabilities(prediction_table, False, 0, 10, False)\n",
    "message = 'Images with the lowest probability of containing cats'\n",
    "display(indices[:10], message, validation_generator.filenames)"
   ]
  },
  {
   "cell_type": "code",
   "execution_count": null,
   "metadata": {
    "colab": {},
    "colab_type": "code",
    "id": "DCFBupoxzem5"
   },
   "outputs": [],
   "source": []
  }
 ],
 "metadata": {
  "accelerator": "GPU",
  "colab": {
   "authorship_tag": "ABX9TyMACRYb8TOaVM1TqlcMEc6L",
   "collapsed_sections": [],
   "mount_file_id": "1XdvYJwzwEyBRrKXOWn99qUehI5N4-Mfp",
   "name": "dog_v_cat.ipynb",
   "provenance": [],
   "toc_visible": true
  },
  "kernelspec": {
   "display_name": "Python 3",
   "language": "python",
   "name": "python3"
  },
  "language_info": {
   "codemirror_mode": {
    "name": "ipython",
    "version": 3
   },
   "file_extension": ".py",
   "mimetype": "text/x-python",
   "name": "python",
   "nbconvert_exporter": "python",
   "pygments_lexer": "ipython3",
   "version": "3.6.10"
  }
 },
 "nbformat": 4,
 "nbformat_minor": 1
}
